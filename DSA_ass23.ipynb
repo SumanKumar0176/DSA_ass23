{
  "nbformat": 4,
  "nbformat_minor": 0,
  "metadata": {
    "colab": {
      "provenance": []
    },
    "kernelspec": {
      "name": "python3",
      "display_name": "Python 3"
    },
    "language_info": {
      "name": "python"
    }
  },
  "cells": [
    {
      "cell_type": "code",
      "execution_count": 1,
      "metadata": {
        "colab": {
          "base_uri": "https://localhost:8080/",
          "height": 88
        },
        "id": "g_40K1rY7bdN",
        "outputId": "200a543b-f88b-46ae-ee27-8402aa784a88"
      },
      "outputs": [
        {
          "output_type": "execute_result",
          "data": {
            "text/plain": [
              "'\\n<aside>\\n💡 Question-1:\\n\\nGiven preorder of a binary tree, calculate its\\xa0**[depth(or height)](https://www.geeksforgeeks.org/write-a-c-program-to-find-the-maximum-depth-or-height-of-a-tree/)**\\xa0[starting from depth 0]. The preorder is given as a string with two possible characters.\\n\\n1. ‘l’ denotes the leaf\\n2. ‘n’ denotes internal node\\n\\nThe given tree can be seen as a full binary tree where every node has 0 or two children. The two children of a node can ‘n’ or ‘l’ or mix of both.\\n\\n**Examples :**\\n\\nInput  : nlnll\\nOutput : 2\\n\\n</aside>\\n'"
            ],
            "application/vnd.google.colaboratory.intrinsic+json": {
              "type": "string"
            }
          },
          "metadata": {},
          "execution_count": 1
        }
      ],
      "source": [
        "\"\"\"\n",
        "<aside>\n",
        "💡 Question-1:\n",
        "\n",
        "Given preorder of a binary tree, calculate its **[depth(or height)](https://www.geeksforgeeks.org/write-a-c-program-to-find-the-maximum-depth-or-height-of-a-tree/)** [starting from depth 0]. The preorder is given as a string with two possible characters.\n",
        "\n",
        "1. ‘l’ denotes the leaf\n",
        "2. ‘n’ denotes internal node\n",
        "\n",
        "The given tree can be seen as a full binary tree where every node has 0 or two children. The two children of a node can ‘n’ or ‘l’ or mix of both.\n",
        "\n",
        "**Examples :**\n",
        "\n",
        "Input  : nlnll\n",
        "Output : 2\n",
        "\n",
        "</aside>\n",
        "\"\"\""
      ]
    },
    {
      "cell_type": "code",
      "source": [
        "def calculate_depth(preorder):\n",
        "    stack = []\n",
        "    depth = 0\n",
        "\n",
        "    for char in preorder:\n",
        "        if char == 'n':  # Internal node, push it onto the stack\n",
        "            stack.append(char)\n",
        "        elif char == 'l':  # Leaf node, backtrack until we reach an internal node with unprocessed right child\n",
        "            while stack and stack[-1] == 'l':\n",
        "                stack.pop()\n",
        "            if stack:\n",
        "                stack.pop()  # Pop the internal node\n",
        "                stack.append('l')  # Mark the internal node as processed by adding a leaf node\n",
        "                depth = max(depth, len(stack))  # Update the depth\n",
        "\n",
        "    return depth\n",
        "\n",
        "# Test example\n",
        "preorder_input = \"nlnll\"\n",
        "print(calculate_depth(preorder_input))\n"
      ],
      "metadata": {
        "colab": {
          "base_uri": "https://localhost:8080/"
        },
        "id": "R0APeIf37j7E",
        "outputId": "02e5166a-a81d-4344-df53-3239c3cbe00a"
      },
      "execution_count": 3,
      "outputs": [
        {
          "output_type": "stream",
          "name": "stdout",
          "text": [
            "2\n"
          ]
        }
      ]
    },
    {
      "cell_type": "code",
      "source": [
        "\"\"\"\n",
        "<aside>\n",
        "💡 Question-2:\n",
        "\n",
        "Given a Binary tree, the task is to print the **left view** of the Binary Tree. The left view of a Binary Tree is a set of leftmost nodes for every level.\n",
        "\n",
        "**Examples:**\n",
        "\n",
        "***Input:***\n",
        "\n",
        "            4\n",
        "\n",
        "          /   \\\n",
        "\n",
        "        5     2\n",
        "\n",
        "             /   \\\n",
        "\n",
        "            3     1\n",
        "\n",
        "           /  \\\n",
        "\n",
        "          6    7\n",
        "\n",
        "***Output:** 4 5 3 6*\n",
        "\n",
        "</aside>\n",
        "\"\"\""
      ],
      "metadata": {
        "colab": {
          "base_uri": "https://localhost:8080/",
          "height": 70
        },
        "id": "afPxPYalGF7_",
        "outputId": "cebdf255-db72-4e77-b5e3-e9d41966ad4b"
      },
      "execution_count": 4,
      "outputs": [
        {
          "output_type": "execute_result",
          "data": {
            "text/plain": [
              "'\\n<aside>\\n💡 Question-2:\\n\\nGiven a\\xa0Binary tree, the task is to print the\\xa0**left view**\\xa0of the Binary Tree. The left view of a Binary Tree is a set of leftmost nodes for every level.\\n\\n**Examples:**\\n\\n***Input:***\\n\\n            4\\n\\n          / \\xa0 \\n        5 \\xa0 \\xa0 2\\n\\n             / \\xa0 \\n            3 \\xa0 \\xa0 1\\n\\n           / \\xa0\\n          6 \\xa0 \\xa07\\n\\n***Output:**\\xa04 5 3 6*\\n\\n</aside>\\n'"
            ],
            "application/vnd.google.colaboratory.intrinsic+json": {
              "type": "string"
            }
          },
          "metadata": {},
          "execution_count": 4
        }
      ]
    },
    {
      "cell_type": "code",
      "source": [
        "class TreeNode:\n",
        "  def __init__(self,val):\n",
        "    self.val=val\n",
        "    self.left=None\n",
        "    self.right=None\n",
        "\n",
        "def left_view(root):\n",
        "  if not root:\n",
        "    return\n",
        "\n",
        "  queue=[root]\n",
        "  while queue:\n",
        "    level_nodes=len(queue)\n",
        "    for i in range(level_nodes):\n",
        "      node=queue.pop(0)\n",
        "\n",
        "      if  i==0:\n",
        "        print(node.val,end=\" \")\n",
        "      if node.left:\n",
        "          queue.append(node.left)\n",
        "      if node.right:\n",
        "          queue.append(node.right)\n"
      ],
      "metadata": {
        "id": "OTerHDypGXRF"
      },
      "execution_count": 10,
      "outputs": []
    },
    {
      "cell_type": "code",
      "source": [
        "root=TreeNode(4)\n",
        "root.left=TreeNode(5)\n",
        "root.right=TreeNode(2)\n",
        "root.right.left=TreeNode(3)\n",
        "root.right.right=TreeNode(1)\n",
        "root.right.left.left=TreeNode(6)\n",
        "root.right.left.right=TreeNode(7)"
      ],
      "metadata": {
        "id": "Ad8hgvJnhiD1"
      },
      "execution_count": 11,
      "outputs": []
    },
    {
      "cell_type": "code",
      "source": [
        "print('left view')\n",
        "left_view(root)"
      ],
      "metadata": {
        "colab": {
          "base_uri": "https://localhost:8080/"
        },
        "id": "3tMyOIIYptE5",
        "outputId": "83c1e8c2-b434-4187-d39c-ab4a631c4f3f"
      },
      "execution_count": 12,
      "outputs": [
        {
          "output_type": "stream",
          "name": "stdout",
          "text": [
            "left view\n",
            "4 5 3 6 "
          ]
        }
      ]
    },
    {
      "cell_type": "code",
      "source": [
        "\"\"\"\n",
        "<aside>\n",
        "💡 Question-3:\n",
        "\n",
        "Given a Binary Tree, print the Right view of it.\n",
        "\n",
        "The right view of a Binary Tree is a set of nodes visible when the tree is visited from the Right side.\n",
        "\n",
        "**Examples:**\n",
        "\n",
        "**Input:**\n",
        "\n",
        "         1\n",
        "\n",
        "      /     \\\n",
        "\n",
        "   2         3\n",
        "\n",
        "/   \\       /  \\\n",
        "\n",
        "4     5   6    7\n",
        "\n",
        "             \\\n",
        "\n",
        "               8\n",
        "\n",
        "**Output**:\n",
        "\n",
        "Right view of the tree is 1 3 7 8\n",
        "\n",
        "</aside>\n",
        "\"\"\""
      ],
      "metadata": {
        "colab": {
          "base_uri": "https://localhost:8080/",
          "height": 70
        },
        "id": "WbEjK87CqE_x",
        "outputId": "b165ea2d-da03-4295-928f-bffe8234685d"
      },
      "execution_count": 13,
      "outputs": [
        {
          "output_type": "execute_result",
          "data": {
            "text/plain": [
              "'\\n<aside>\\n💡 Question-3:\\n\\nGiven a Binary Tree, print the Right view of it.\\n\\nThe\\xa0right view of a Binary Tree\\xa0is a set of nodes visible when the tree is visited from the Right side.\\n\\n**Examples:**\\n\\n**Input:**\\n\\n         1\\n\\n      / \\xa0 \\xa0 \\n   2 \\xa0 \\xa0  \\xa0 \\xa03\\n\\n/ \\xa0 \\\\ \\xa0 \\xa0 \\xa0 / \\xa0\\n4 \\xa0 \\xa0 5 \\xa0 6 \\xa0 \\xa07\\n\\n             \\n               8\\n\\n**Output**: \\n\\nRight view of the tree is 1 3 7 8\\n\\n</aside>\\n'"
            ],
            "application/vnd.google.colaboratory.intrinsic+json": {
              "type": "string"
            }
          },
          "metadata": {},
          "execution_count": 13
        }
      ]
    },
    {
      "cell_type": "code",
      "source": [
        "class TreeNode:\n",
        "  def __init__(self,val):\n",
        "    self.val=val\n",
        "    self.left=None\n",
        "    self.right=None\n",
        "def right_view(root):\n",
        "  if not root:\n",
        "    return\n",
        "\n",
        "  queue=[root]\n",
        "  while queue:\n",
        "    level_nodes=len(queue)\n",
        "    for i in range(level_nodes):\n",
        "      node=queue.pop(0)\n",
        "      if i==level_nodes-1:\n",
        "        print(node.val,end=' ')\n",
        "\n",
        "      if node.left:\n",
        "        queue.append(node.left)\n",
        "      if node.right:\n",
        "        queue.append(node.right)\n"
      ],
      "metadata": {
        "id": "husPWQPqqpsw"
      },
      "execution_count": 14,
      "outputs": []
    },
    {
      "cell_type": "code",
      "source": [
        "rroot = TreeNode(1)\n",
        "root.left = TreeNode(2)\n",
        "root.right = TreeNode(3)\n",
        "root.left.left = TreeNode(4)\n",
        "root.left.right = TreeNode(5)\n",
        "root.right.left = TreeNode(6)\n",
        "root.right.right = TreeNode(7)\n",
        "root.right.left.right = TreeNode(8)"
      ],
      "metadata": {
        "id": "JxjNWUH-toCJ"
      },
      "execution_count": 15,
      "outputs": []
    },
    {
      "cell_type": "code",
      "source": [
        "print(\"Right View:\")\n",
        "right_view(root)"
      ],
      "metadata": {
        "colab": {
          "base_uri": "https://localhost:8080/"
        },
        "id": "lBD5UNDQtvTx",
        "outputId": "bb66a195-4030-4b5e-9459-94e88b05bac0"
      },
      "execution_count": 16,
      "outputs": [
        {
          "output_type": "stream",
          "name": "stdout",
          "text": [
            "Right View:\n",
            "4 3 7 8 "
          ]
        }
      ]
    },
    {
      "cell_type": "code",
      "source": [
        "\"\"\"\n",
        "<aside>\n",
        "💡 Question-4:\n",
        "\n",
        "Given a Binary Tree, The task is to print the **bottom view** from left to right. A node **x** is there in output if x is the bottommost node at its horizontal distance. The horizontal distance of the left child of a node x is equal to a horizontal distance of x minus 1, and that of a right child is the horizontal distance of x plus 1.\n",
        "\n",
        "**Examples:**\n",
        "\n",
        "**Input:**\n",
        "\n",
        "             20\n",
        "\n",
        "           /     \\\n",
        "\n",
        "        8         22\n",
        "\n",
        "    /      \\         \\\n",
        "\n",
        "5         3        25\n",
        "\n",
        "        /    \\\n",
        "\n",
        "   10       14\n",
        "\n",
        "**Output:** 5, 10, 3, 14, 25.\n",
        "\n",
        "</aside>\n",
        "\"\"\""
      ],
      "metadata": {
        "colab": {
          "base_uri": "https://localhost:8080/",
          "height": 88
        },
        "id": "oO0pb3Zgty-p",
        "outputId": "662b1552-7198-4fd9-c5ea-5b8ceb629d88"
      },
      "execution_count": 17,
      "outputs": [
        {
          "output_type": "execute_result",
          "data": {
            "text/plain": [
              "'\\n<aside>\\n💡 Question-4:\\n\\nGiven a Binary Tree, The task is to print the\\xa0**bottom view**\\xa0from left to right. A node\\xa0**x**\\xa0is there in output if x is the bottommost node at its horizontal distance. The horizontal distance of the left child of a node x is equal to a horizontal distance of x minus 1, and that of a right child is the horizontal distance of x plus 1.\\n\\n**Examples:**\\n\\n**Input:**\\n\\n             20\\n\\n           / \\xa0 \\xa0 \\n        8 \\xa0 \\xa0 \\xa0 \\xa0 22\\n\\n    / \\xa0 \\xa0 \\xa0\\\\ \\xa0 \\xa0 \\xa0 \\xa0 \\n5 \\xa0 \\xa0 \\xa0 \\xa0 3 \\xa0 \\xa0 \\xa0 \\xa025\\n\\n        / \\xa0 \\xa0\\n   10 \\xa0 \\xa0 \\xa0 14\\n\\n**Output:**\\xa05, 10, 3, 14, 25.\\n\\n</aside>\\n'"
            ],
            "application/vnd.google.colaboratory.intrinsic+json": {
              "type": "string"
            }
          },
          "metadata": {},
          "execution_count": 17
        }
      ]
    },
    {
      "cell_type": "code",
      "source": [
        "from collections import defaultdict, deque\n",
        "\n",
        "class TreeNode:\n",
        "    def __init__(self, val):\n",
        "        self.val = val\n",
        "        self.left = None\n",
        "        self.right = None\n",
        "\n",
        "def bottom_view(root):\n",
        "    if not root:\n",
        "        return\n",
        "\n",
        "    # Dictionary to store the bottom view nodes at each horizontal distance\n",
        "    bottom_view_dict = defaultdict(int)\n",
        "\n",
        "    # Queue to perform level-order traversal\n",
        "    queue = deque([(root, 0)])  # Tuple format: (node, horizontal_distance)\n",
        "\n",
        "    while queue:\n",
        "        node, hd = queue.popleft()\n",
        "\n",
        "        # Update the bottom view for the current horizontal distance\n",
        "        bottom_view_dict[hd] = node.val\n",
        "\n",
        "        # Add the left and right child nodes to the queue with their updated horizontal distances\n",
        "        if node.left:\n",
        "            queue.append((node.left, hd - 1))\n",
        "        if node.right:\n",
        "            queue.append((node.right, hd + 1))\n",
        "\n",
        "    # Print the bottom view nodes from left to right\n",
        "    for hd in sorted(bottom_view_dict.keys()):\n",
        "        print(bottom_view_dict[hd], end=' ')\n",
        "\n",
        "# Test example\n",
        "root = TreeNode(20)\n",
        "root.left = TreeNode(8)\n",
        "root.right = TreeNode(22)\n",
        "root.left.left = TreeNode(5)\n",
        "root.left.right = TreeNode(3)\n",
        "root.right.right = TreeNode(25)\n",
        "root.left.right.left = TreeNode(10)\n",
        "root.left.right.right = TreeNode(14)\n",
        "\n",
        "print(\"Bottom View:\")\n",
        "bottom_view(root)\n"
      ],
      "metadata": {
        "colab": {
          "base_uri": "https://localhost:8080/"
        },
        "id": "yDkWWURkuLCq",
        "outputId": "7fdc4e2e-74bc-4df2-aaaa-a104ff1c418c"
      },
      "execution_count": 19,
      "outputs": [
        {
          "output_type": "stream",
          "name": "stdout",
          "text": [
            "Bottom View:\n",
            "5 10 3 14 25 "
          ]
        }
      ]
    },
    {
      "cell_type": "code",
      "source": [],
      "metadata": {
        "id": "fdnpvQMD3VHf"
      },
      "execution_count": null,
      "outputs": []
    }
  ]
}